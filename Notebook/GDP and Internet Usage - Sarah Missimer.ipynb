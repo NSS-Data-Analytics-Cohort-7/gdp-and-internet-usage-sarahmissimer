{
 "cells": [
  {
   "cell_type": "markdown",
   "id": "bbc3ada3",
   "metadata": {},
   "source": [
    " <b> 3. Import the required packages <b>"
   ]
  },
  {
   "cell_type": "code",
   "execution_count": 1,
   "id": "86dc34c8",
   "metadata": {},
   "outputs": [],
   "source": [
    "import pandas as pd\n",
    "import numpy as np\n",
    "import matplotlib.pyplot as plt\n",
    "import seaborn as sns "
   ]
  },
  {
   "cell_type": "markdown",
   "id": "6d7183e6",
   "metadata": {},
   "source": [
    "<b> 4. Use the magic command so that your plots show in the notebook without having to call --- every time. <b>"
   ]
  },
  {
   "cell_type": "code",
   "execution_count": 2,
   "id": "f7dd4270",
   "metadata": {},
   "outputs": [],
   "source": [
    "%matplotlib inline"
   ]
  },
  {
   "cell_type": "markdown",
   "id": "57706748",
   "metadata": {},
   "source": [
    "<b>5. Using pandas method, read the GDP dataset into your notebook as a DataFrame called gdp_df. Take a look at the first 6 rows.<b>"
   ]
  },
  {
   "cell_type": "code",
   "execution_count": 3,
   "id": "d461e13e",
   "metadata": {},
   "outputs": [
    {
     "name": "stdout",
     "output_type": "stream",
     "text": [
      "  Country or Area  Year        Value  Value Footnotes\n",
      "0     Afghanistan  2019  2065.036398              NaN\n",
      "1     Afghanistan  2018  2033.779002              NaN\n",
      "2     Afghanistan  2017  2058.383832              NaN\n",
      "3     Afghanistan  2016  2057.062164              NaN\n",
      "4     Afghanistan  2015  2068.265904              NaN\n",
      "5     Afghanistan  2014  2102.385234              NaN\n",
      "6     Afghanistan  2013  2116.465454              NaN\n"
     ]
    }
   ],
   "source": [
    "gdp_df = pd.read_csv(\"../Data/gdp_percapita.csv\", nrows=6868)\n",
    "print(gdp_df[:7])"
   ]
  },
  {
   "cell_type": "markdown",
   "id": "40f6856d",
   "metadata": {},
   "source": [
    "<b>6. Repeat for the internet use dataset. Call this DataFrame internet_df. Take a look at the first six rows.<b>"
   ]
  },
  {
   "cell_type": "code",
   "execution_count": 4,
   "id": "e0212ce3",
   "metadata": {},
   "outputs": [
    {
     "name": "stdout",
     "output_type": "stream",
     "text": [
      "  Country or Area  Year     Value  Value Footnotes  Unnamed: 4  Unnamed: 5\n",
      "0     Afghanistan  2014  6.390000              NaN         NaN         NaN\n",
      "1     Afghanistan  2013  5.900000              NaN         NaN         NaN\n",
      "2     Afghanistan  2012  5.454545              NaN         NaN         NaN\n",
      "3     Afghanistan  2011  5.000000              NaN         NaN         NaN\n",
      "4     Afghanistan  2010  4.000000              NaN         NaN         NaN\n",
      "5     Afghanistan  2009  3.550000              NaN         NaN         NaN\n",
      "6     Afghanistan  2008  1.840000              NaN         NaN         NaN\n"
     ]
    }
   ],
   "source": [
    "internet_df = pd.read_csv(\"../Data/internet_use.csv\", nrows=4495)\n",
    "print(internet_df[:7])"
   ]
  },
  {
   "cell_type": "markdown",
   "id": "c0a45e67",
   "metadata": {},
   "source": [
    "<b>7. Look at the shape of each DataFrame - how many rows? How many columns?<b>\n"
   ]
  },
  {
   "cell_type": "markdown",
   "id": "1e8555f2",
   "metadata": {},
   "source": [
    "FOR gdp_df: (all together dataframe)\n",
    "ROWS = 6869\n",
    "COLUMNS = 4\n",
    "\n",
    "FOR gdp_df: (first 6 dataframe)\n",
    "ROWS: 10 with values, 11 all together\n",
    "COLUMNS:4"
   ]
  },
  {
   "cell_type": "markdown",
   "id": "aa65901b",
   "metadata": {},
   "source": [
    "FOR internet_df: (all together dataframe)\n",
    "ROWS: 4496\n",
    "COLUMNS: 6\n",
    "\n",
    "FOR internet_df: (frist 6 dataframe)\n",
    "ROWS: 10 with values, 11 all together\n",
    "COLUMNS: 6"
   ]
  },
  {
   "cell_type": "markdown",
   "id": "8642e484",
   "metadata": {},
   "source": [
    "<b> 8.Take a look at the datatypes for the columns in each DataFrame. <b>"
   ]
  },
  {
   "cell_type": "code",
   "execution_count": 12,
   "id": "f7b230cc",
   "metadata": {},
   "outputs": [
    {
     "data": {
      "text/plain": [
       "Country or Area     object\n",
       "Year                 int64\n",
       "Value              float64\n",
       "Value Footnotes    float64\n",
       "dtype: object"
      ]
     },
     "execution_count": 12,
     "metadata": {},
     "output_type": "execute_result"
    }
   ],
   "source": [
    "gdp_df.dtypes"
   ]
  },
  {
   "cell_type": "code",
   "execution_count": 13,
   "id": "bd8fd13f",
   "metadata": {},
   "outputs": [
    {
     "data": {
      "text/plain": [
       "Country or Area     object\n",
       "Year                 int64\n",
       "Value              float64\n",
       "Value Footnotes    float64\n",
       "Unnamed: 4         float64\n",
       "Unnamed: 5         float64\n",
       "dtype: object"
      ]
     },
     "execution_count": 13,
     "metadata": {},
     "output_type": "execute_result"
    }
   ],
   "source": [
    "internet_df.dtypes"
   ]
  },
  {
   "cell_type": "markdown",
   "id": "62f17a4f",
   "metadata": {},
   "source": [
    "\n",
    "<b>9. Take a look at the last 10 rows of each DataFrame in turn. <b>\n",
    "   "
   ]
  },
  {
   "cell_type": "code",
   "execution_count": 29,
   "id": "492a3f4b",
   "metadata": {
    "scrolled": true
   },
   "outputs": [
    {
     "name": "stdout",
     "output_type": "stream",
     "text": [
      "     Country or Area  Year        Value  Value Footnotes\n",
      "6858        Zimbabwe  1999  3600.849291              NaN\n",
      "6859        Zimbabwe  1998  3653.920016              NaN\n",
      "6860        Zimbabwe  1997  3580.048793              NaN\n",
      "6861        Zimbabwe  1996  3520.430146              NaN\n",
      "6862        Zimbabwe  1995  3226.413930              NaN\n",
      "6863        Zimbabwe  1994  3263.934978              NaN\n",
      "6864        Zimbabwe  1993  3033.504852              NaN\n",
      "6865        Zimbabwe  1992  3054.889178              NaN\n",
      "6866        Zimbabwe  1991  3426.598094              NaN\n",
      "6867        Zimbabwe  1990  3324.348171              NaN\n"
     ]
    }
   ],
   "source": [
    "print(gdp_df[-10:])"
   ]
  },
  {
   "cell_type": "code",
   "execution_count": 33,
   "id": "c200ec39",
   "metadata": {},
   "outputs": [
    {
     "name": "stdout",
     "output_type": "stream",
     "text": [
      "     Country or Area  Year     Value  Value Footnotes  Unnamed: 4  Unnamed: 5\n",
      "4485        Zimbabwe  2002  3.994356              NaN         NaN         NaN\n",
      "4486        Zimbabwe  2001  0.799846              NaN         NaN         NaN\n",
      "4487        Zimbabwe  2000  0.401434              NaN         NaN         NaN\n",
      "4488        Zimbabwe  1999  0.161676              NaN         NaN         NaN\n",
      "4489        Zimbabwe  1998  0.081648              NaN         NaN         NaN\n",
      "4490        Zimbabwe  1997  0.033080              NaN         NaN         NaN\n",
      "4491        Zimbabwe  1996  0.016790              NaN         NaN         NaN\n",
      "4492        Zimbabwe  1995  0.007684              NaN         NaN         NaN\n",
      "4493        Zimbabwe  1994  0.001739              NaN         NaN         NaN\n",
      "4494        Zimbabwe  1990  0.000000              NaN         NaN         NaN\n"
     ]
    }
   ],
   "source": [
    "print(internet_df[-10:])"
   ]
  },
  {
   "cell_type": "markdown",
   "id": "2e70d6cb",
   "metadata": {},
   "source": [
    "<b> 10. Drop the value footnotes column from both DataFrames. Check that this worked as expected. <b>"
   ]
  },
  {
   "cell_type": "code",
   "execution_count": 44,
   "id": "149d2e70",
   "metadata": {},
   "outputs": [
    {
     "data": {
      "text/html": [
       "<div>\n",
       "<style scoped>\n",
       "    .dataframe tbody tr th:only-of-type {\n",
       "        vertical-align: middle;\n",
       "    }\n",
       "\n",
       "    .dataframe tbody tr th {\n",
       "        vertical-align: top;\n",
       "    }\n",
       "\n",
       "    .dataframe thead th {\n",
       "        text-align: right;\n",
       "    }\n",
       "</style>\n",
       "<table border=\"1\" class=\"dataframe\">\n",
       "  <thead>\n",
       "    <tr style=\"text-align: right;\">\n",
       "      <th></th>\n",
       "      <th>Country or Area</th>\n",
       "      <th>Year</th>\n",
       "      <th>Value</th>\n",
       "    </tr>\n",
       "  </thead>\n",
       "  <tbody>\n",
       "    <tr>\n",
       "      <th>0</th>\n",
       "      <td>Afghanistan</td>\n",
       "      <td>2019</td>\n",
       "      <td>2065.036398</td>\n",
       "    </tr>\n",
       "    <tr>\n",
       "      <th>1</th>\n",
       "      <td>Afghanistan</td>\n",
       "      <td>2018</td>\n",
       "      <td>2033.779002</td>\n",
       "    </tr>\n",
       "    <tr>\n",
       "      <th>2</th>\n",
       "      <td>Afghanistan</td>\n",
       "      <td>2017</td>\n",
       "      <td>2058.383832</td>\n",
       "    </tr>\n",
       "    <tr>\n",
       "      <th>3</th>\n",
       "      <td>Afghanistan</td>\n",
       "      <td>2016</td>\n",
       "      <td>2057.062164</td>\n",
       "    </tr>\n",
       "    <tr>\n",
       "      <th>4</th>\n",
       "      <td>Afghanistan</td>\n",
       "      <td>2015</td>\n",
       "      <td>2068.265904</td>\n",
       "    </tr>\n",
       "    <tr>\n",
       "      <th>...</th>\n",
       "      <td>...</td>\n",
       "      <td>...</td>\n",
       "      <td>...</td>\n",
       "    </tr>\n",
       "    <tr>\n",
       "      <th>6863</th>\n",
       "      <td>Zimbabwe</td>\n",
       "      <td>1994</td>\n",
       "      <td>3263.934978</td>\n",
       "    </tr>\n",
       "    <tr>\n",
       "      <th>6864</th>\n",
       "      <td>Zimbabwe</td>\n",
       "      <td>1993</td>\n",
       "      <td>3033.504852</td>\n",
       "    </tr>\n",
       "    <tr>\n",
       "      <th>6865</th>\n",
       "      <td>Zimbabwe</td>\n",
       "      <td>1992</td>\n",
       "      <td>3054.889178</td>\n",
       "    </tr>\n",
       "    <tr>\n",
       "      <th>6866</th>\n",
       "      <td>Zimbabwe</td>\n",
       "      <td>1991</td>\n",
       "      <td>3426.598094</td>\n",
       "    </tr>\n",
       "    <tr>\n",
       "      <th>6867</th>\n",
       "      <td>Zimbabwe</td>\n",
       "      <td>1990</td>\n",
       "      <td>3324.348171</td>\n",
       "    </tr>\n",
       "  </tbody>\n",
       "</table>\n",
       "<p>6868 rows × 3 columns</p>\n",
       "</div>"
      ],
      "text/plain": [
       "     Country or Area  Year        Value\n",
       "0        Afghanistan  2019  2065.036398\n",
       "1        Afghanistan  2018  2033.779002\n",
       "2        Afghanistan  2017  2058.383832\n",
       "3        Afghanistan  2016  2057.062164\n",
       "4        Afghanistan  2015  2068.265904\n",
       "...              ...   ...          ...\n",
       "6863        Zimbabwe  1994  3263.934978\n",
       "6864        Zimbabwe  1993  3033.504852\n",
       "6865        Zimbabwe  1992  3054.889178\n",
       "6866        Zimbabwe  1991  3426.598094\n",
       "6867        Zimbabwe  1990  3324.348171\n",
       "\n",
       "[6868 rows x 3 columns]"
      ]
     },
     "execution_count": 44,
     "metadata": {},
     "output_type": "execute_result"
    }
   ],
   "source": [
    "gdp_df.drop(columns=['Value Footnotes'])"
   ]
  },
  {
   "cell_type": "code",
   "execution_count": 46,
   "id": "1a064428",
   "metadata": {},
   "outputs": [
    {
     "data": {
      "text/html": [
       "<div>\n",
       "<style scoped>\n",
       "    .dataframe tbody tr th:only-of-type {\n",
       "        vertical-align: middle;\n",
       "    }\n",
       "\n",
       "    .dataframe tbody tr th {\n",
       "        vertical-align: top;\n",
       "    }\n",
       "\n",
       "    .dataframe thead th {\n",
       "        text-align: right;\n",
       "    }\n",
       "</style>\n",
       "<table border=\"1\" class=\"dataframe\">\n",
       "  <thead>\n",
       "    <tr style=\"text-align: right;\">\n",
       "      <th></th>\n",
       "      <th>Country or Area</th>\n",
       "      <th>Year</th>\n",
       "      <th>Value</th>\n",
       "      <th>Unnamed: 4</th>\n",
       "      <th>Unnamed: 5</th>\n",
       "    </tr>\n",
       "  </thead>\n",
       "  <tbody>\n",
       "    <tr>\n",
       "      <th>0</th>\n",
       "      <td>Afghanistan</td>\n",
       "      <td>2014</td>\n",
       "      <td>6.390000</td>\n",
       "      <td>NaN</td>\n",
       "      <td>NaN</td>\n",
       "    </tr>\n",
       "    <tr>\n",
       "      <th>1</th>\n",
       "      <td>Afghanistan</td>\n",
       "      <td>2013</td>\n",
       "      <td>5.900000</td>\n",
       "      <td>NaN</td>\n",
       "      <td>NaN</td>\n",
       "    </tr>\n",
       "    <tr>\n",
       "      <th>2</th>\n",
       "      <td>Afghanistan</td>\n",
       "      <td>2012</td>\n",
       "      <td>5.454545</td>\n",
       "      <td>NaN</td>\n",
       "      <td>NaN</td>\n",
       "    </tr>\n",
       "    <tr>\n",
       "      <th>3</th>\n",
       "      <td>Afghanistan</td>\n",
       "      <td>2011</td>\n",
       "      <td>5.000000</td>\n",
       "      <td>NaN</td>\n",
       "      <td>NaN</td>\n",
       "    </tr>\n",
       "    <tr>\n",
       "      <th>4</th>\n",
       "      <td>Afghanistan</td>\n",
       "      <td>2010</td>\n",
       "      <td>4.000000</td>\n",
       "      <td>NaN</td>\n",
       "      <td>NaN</td>\n",
       "    </tr>\n",
       "    <tr>\n",
       "      <th>...</th>\n",
       "      <td>...</td>\n",
       "      <td>...</td>\n",
       "      <td>...</td>\n",
       "      <td>...</td>\n",
       "      <td>...</td>\n",
       "    </tr>\n",
       "    <tr>\n",
       "      <th>4490</th>\n",
       "      <td>Zimbabwe</td>\n",
       "      <td>1997</td>\n",
       "      <td>0.033080</td>\n",
       "      <td>NaN</td>\n",
       "      <td>NaN</td>\n",
       "    </tr>\n",
       "    <tr>\n",
       "      <th>4491</th>\n",
       "      <td>Zimbabwe</td>\n",
       "      <td>1996</td>\n",
       "      <td>0.016790</td>\n",
       "      <td>NaN</td>\n",
       "      <td>NaN</td>\n",
       "    </tr>\n",
       "    <tr>\n",
       "      <th>4492</th>\n",
       "      <td>Zimbabwe</td>\n",
       "      <td>1995</td>\n",
       "      <td>0.007684</td>\n",
       "      <td>NaN</td>\n",
       "      <td>NaN</td>\n",
       "    </tr>\n",
       "    <tr>\n",
       "      <th>4493</th>\n",
       "      <td>Zimbabwe</td>\n",
       "      <td>1994</td>\n",
       "      <td>0.001739</td>\n",
       "      <td>NaN</td>\n",
       "      <td>NaN</td>\n",
       "    </tr>\n",
       "    <tr>\n",
       "      <th>4494</th>\n",
       "      <td>Zimbabwe</td>\n",
       "      <td>1990</td>\n",
       "      <td>0.000000</td>\n",
       "      <td>NaN</td>\n",
       "      <td>NaN</td>\n",
       "    </tr>\n",
       "  </tbody>\n",
       "</table>\n",
       "<p>4495 rows × 5 columns</p>\n",
       "</div>"
      ],
      "text/plain": [
       "     Country or Area  Year     Value  Unnamed: 4  Unnamed: 5\n",
       "0        Afghanistan  2014  6.390000         NaN         NaN\n",
       "1        Afghanistan  2013  5.900000         NaN         NaN\n",
       "2        Afghanistan  2012  5.454545         NaN         NaN\n",
       "3        Afghanistan  2011  5.000000         NaN         NaN\n",
       "4        Afghanistan  2010  4.000000         NaN         NaN\n",
       "...              ...   ...       ...         ...         ...\n",
       "4490        Zimbabwe  1997  0.033080         NaN         NaN\n",
       "4491        Zimbabwe  1996  0.016790         NaN         NaN\n",
       "4492        Zimbabwe  1995  0.007684         NaN         NaN\n",
       "4493        Zimbabwe  1994  0.001739         NaN         NaN\n",
       "4494        Zimbabwe  1990  0.000000         NaN         NaN\n",
       "\n",
       "[4495 rows x 5 columns]"
      ]
     },
     "execution_count": 46,
     "metadata": {},
     "output_type": "execute_result"
    }
   ],
   "source": [
    "internet_df.drop(columns=['Value Footnotes'])"
   ]
  },
  {
   "cell_type": "markdown",
   "id": "23426ad5",
   "metadata": {},
   "source": [
    "<b> 10. Change the columns for the GDP Per Capita DataFrame to ‘Country’, ‘Year’, and ‘GDP_Per_Capita’. <b>"
   ]
  },
  {
   "cell_type": "code",
   "execution_count": null,
   "id": "57f1cb67",
   "metadata": {},
   "outputs": [],
   "source": []
  }
 ],
 "metadata": {
  "kernelspec": {
   "display_name": "Python 3 (ipykernel)",
   "language": "python",
   "name": "python3"
  },
  "language_info": {
   "codemirror_mode": {
    "name": "ipython",
    "version": 3
   },
   "file_extension": ".py",
   "mimetype": "text/x-python",
   "name": "python",
   "nbconvert_exporter": "python",
   "pygments_lexer": "ipython3",
   "version": "3.9.12"
  }
 },
 "nbformat": 4,
 "nbformat_minor": 5
}
