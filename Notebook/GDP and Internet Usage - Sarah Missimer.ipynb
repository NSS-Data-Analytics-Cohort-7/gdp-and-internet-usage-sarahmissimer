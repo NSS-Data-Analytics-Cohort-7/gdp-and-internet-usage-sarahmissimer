{
 "cells": [
  {
   "cell_type": "markdown",
   "id": "f9ea93cc",
   "metadata": {},
   "source": [
    " <b> 3. Import the required packages <b>"
   ]
  },
  {
   "cell_type": "code",
   "execution_count": 1,
   "id": "0a68348b",
   "metadata": {},
   "outputs": [],
   "source": [
    "import pandas as pd\n",
    "import numpy as np\n",
    "import matplotlib.pyplot as plt\n",
    "import seaborn as sns "
   ]
  },
  {
   "cell_type": "markdown",
   "id": "864fefd6",
   "metadata": {},
   "source": [
    "<b> 4. Use the magic command so that your plots show in the notebook without having to call --- every time. <b>"
   ]
  },
  {
   "cell_type": "code",
   "execution_count": 2,
   "id": "10fe07ff",
   "metadata": {},
   "outputs": [],
   "source": [
    "%matplotlib inline"
   ]
  },
  {
   "cell_type": "markdown",
   "id": "522bb70c",
   "metadata": {},
   "source": [
    "<b>5. Using pandas method, read the GDP dataset into your notebook as a DataFrame called gdp_df. Take a look at the first 6 rows.<b>"
   ]
  },
  {
   "cell_type": "code",
   "execution_count": 3,
   "id": "00ef2040",
   "metadata": {},
   "outputs": [
    {
     "name": "stdout",
     "output_type": "stream",
     "text": [
      "  Country or Area  Year        Value  Value Footnotes\n",
      "0     Afghanistan  2019  2065.036398              NaN\n",
      "1     Afghanistan  2018  2033.779002              NaN\n",
      "2     Afghanistan  2017  2058.383832              NaN\n",
      "3     Afghanistan  2016  2057.062164              NaN\n",
      "4     Afghanistan  2015  2068.265904              NaN\n",
      "5     Afghanistan  2014  2102.385234              NaN\n",
      "6     Afghanistan  2013  2116.465454              NaN\n"
     ]
    }
   ],
   "source": [
    "gdp_df = pd.read_csv(\"../Data/gdp_percapita.csv\", nrows=6868)\n",
    "print(gdp_df[:7])"
   ]
  },
  {
   "cell_type": "markdown",
   "id": "7e142dcb",
   "metadata": {},
   "source": [
    "<b>6. Repeat for the internet use dataset. Call this DataFrame internet_df. Take a look at the first six rows.<b>"
   ]
  },
  {
   "cell_type": "code",
   "execution_count": 4,
   "id": "2ac1505a",
   "metadata": {},
   "outputs": [
    {
     "name": "stdout",
     "output_type": "stream",
     "text": [
      "  Country or Area  Year     Value  Value Footnotes  Unnamed: 4  Unnamed: 5\n",
      "0     Afghanistan  2014  6.390000              NaN         NaN         NaN\n",
      "1     Afghanistan  2013  5.900000              NaN         NaN         NaN\n",
      "2     Afghanistan  2012  5.454545              NaN         NaN         NaN\n",
      "3     Afghanistan  2011  5.000000              NaN         NaN         NaN\n",
      "4     Afghanistan  2010  4.000000              NaN         NaN         NaN\n",
      "5     Afghanistan  2009  3.550000              NaN         NaN         NaN\n",
      "6     Afghanistan  2008  1.840000              NaN         NaN         NaN\n"
     ]
    }
   ],
   "source": [
    "internet_df = pd.read_csv(\"../Data/internet_use.csv\", nrows=4495)\n",
    "print(internet_df[:7])"
   ]
  },
  {
   "cell_type": "markdown",
   "id": "3b63a355",
   "metadata": {},
   "source": [
    "<b>7. Look at the shape of each DataFrame - how many rows? How many columns?<b>\n"
   ]
  },
  {
   "cell_type": "markdown",
   "id": "8eeacea7",
   "metadata": {},
   "source": [
    "FOR gdp_df: (all together dataframe)\n",
    "ROWS = 6869\n",
    "COLUMNS = 4\n",
    "\n",
    "FOR gdp_df: (first 6 dataframe)\n",
    "ROWS: 10 with values, 11 all together\n",
    "COLUMNS:4"
   ]
  },
  {
   "cell_type": "markdown",
   "id": "da0677fe",
   "metadata": {},
   "source": [
    "FOR internet_df: (all together dataframe)\n",
    "ROWS: 4496\n",
    "COLUMNS: 6\n",
    "\n",
    "FOR internet_df: (frist 6 dataframe)\n",
    "ROWS: 10 with values, 11 all together\n",
    "COLUMNS: 6"
   ]
  },
  {
   "cell_type": "markdown",
   "id": "d95e62df",
   "metadata": {},
   "source": [
    "<b> 8.Take a look at the datatypes for the columns in each DataFrame. <b>"
   ]
  },
  {
   "cell_type": "code",
   "execution_count": 5,
   "id": "40334a6e",
   "metadata": {},
   "outputs": [
    {
     "data": {
      "text/plain": [
       "Country or Area     object\n",
       "Year                 int64\n",
       "Value              float64\n",
       "Value Footnotes    float64\n",
       "dtype: object"
      ]
     },
     "execution_count": 5,
     "metadata": {},
     "output_type": "execute_result"
    }
   ],
   "source": [
    "gdp_df.dtypes"
   ]
  },
  {
   "cell_type": "code",
   "execution_count": 6,
   "id": "aa0509e6",
   "metadata": {},
   "outputs": [
    {
     "data": {
      "text/plain": [
       "Country or Area     object\n",
       "Year                 int64\n",
       "Value              float64\n",
       "Value Footnotes    float64\n",
       "Unnamed: 4         float64\n",
       "Unnamed: 5         float64\n",
       "dtype: object"
      ]
     },
     "execution_count": 6,
     "metadata": {},
     "output_type": "execute_result"
    }
   ],
   "source": [
    "internet_df.dtypes"
   ]
  },
  {
   "cell_type": "markdown",
   "id": "f53f0f52",
   "metadata": {},
   "source": [
    "\n",
    "<b>9. Take a look at the last 10 rows of each DataFrame in turn. <b>\n",
    "   "
   ]
  },
  {
   "cell_type": "code",
   "execution_count": 7,
   "id": "3c588935",
   "metadata": {
    "scrolled": true
   },
   "outputs": [
    {
     "name": "stdout",
     "output_type": "stream",
     "text": [
      "     Country or Area  Year        Value  Value Footnotes\n",
      "6858        Zimbabwe  1999  3600.849291              NaN\n",
      "6859        Zimbabwe  1998  3653.920016              NaN\n",
      "6860        Zimbabwe  1997  3580.048793              NaN\n",
      "6861        Zimbabwe  1996  3520.430146              NaN\n",
      "6862        Zimbabwe  1995  3226.413930              NaN\n",
      "6863        Zimbabwe  1994  3263.934978              NaN\n",
      "6864        Zimbabwe  1993  3033.504852              NaN\n",
      "6865        Zimbabwe  1992  3054.889178              NaN\n",
      "6866        Zimbabwe  1991  3426.598094              NaN\n",
      "6867        Zimbabwe  1990  3324.348171              NaN\n"
     ]
    }
   ],
   "source": [
    "print(gdp_df[-10:])"
   ]
  },
  {
   "cell_type": "code",
   "execution_count": 8,
   "id": "410e7531",
   "metadata": {},
   "outputs": [
    {
     "name": "stdout",
     "output_type": "stream",
     "text": [
      "     Country or Area  Year     Value  Value Footnotes  Unnamed: 4  Unnamed: 5\n",
      "4485        Zimbabwe  2002  3.994356              NaN         NaN         NaN\n",
      "4486        Zimbabwe  2001  0.799846              NaN         NaN         NaN\n",
      "4487        Zimbabwe  2000  0.401434              NaN         NaN         NaN\n",
      "4488        Zimbabwe  1999  0.161676              NaN         NaN         NaN\n",
      "4489        Zimbabwe  1998  0.081648              NaN         NaN         NaN\n",
      "4490        Zimbabwe  1997  0.033080              NaN         NaN         NaN\n",
      "4491        Zimbabwe  1996  0.016790              NaN         NaN         NaN\n",
      "4492        Zimbabwe  1995  0.007684              NaN         NaN         NaN\n",
      "4493        Zimbabwe  1994  0.001739              NaN         NaN         NaN\n",
      "4494        Zimbabwe  1990  0.000000              NaN         NaN         NaN\n"
     ]
    }
   ],
   "source": [
    "print(internet_df[-10:])"
   ]
  },
  {
   "cell_type": "markdown",
   "id": "4d8b5a76",
   "metadata": {},
   "source": [
    "<b> 10. Drop the value footnotes column from both DataFrames. Check that this worked as expected. <b>"
   ]
  },
  {
   "cell_type": "code",
   "execution_count": 9,
   "id": "f57668d1",
   "metadata": {},
   "outputs": [],
   "source": [
    "gdp_df1 = gdp_df.drop(columns=['Value Footnotes'])"
   ]
  },
  {
   "cell_type": "code",
   "execution_count": 10,
   "id": "d1d13813",
   "metadata": {},
   "outputs": [],
   "source": [
    "internet_df1 = internet_df.drop(columns=['Value Footnotes'])"
   ]
  },
  {
   "cell_type": "markdown",
   "id": "caae4b67",
   "metadata": {},
   "source": [
    "<b> 11. Change the columns for the GDP Per Capita DataFrame to ‘Country’, ‘Year’, and ‘GDP_Per_Capita’. <b>"
   ]
  },
  {
   "cell_type": "code",
   "execution_count": 11,
   "id": "8821591a",
   "metadata": {},
   "outputs": [],
   "source": [
    "gdp_df1 = gdp_df1.rename(columns = {'Country or Area':'Country', 'Value':'GDP_Per_Capita'})\n"
   ]
  },
  {
   "cell_type": "markdown",
   "id": "c565c152",
   "metadata": {},
   "source": [
    "<b> 12. Change the columns for the Internet Users DataFrame to ‘Country’, ‘Year’, and ‘Internet_Users_Pct’. <b>\n",
    "\n"
   ]
  },
  {
   "cell_type": "code",
   "execution_count": 12,
   "id": "b2b60d78",
   "metadata": {
    "scrolled": true
   },
   "outputs": [],
   "source": [
    "internet_df1 = internet_df1.rename(columns = {'Country or Area':'Country', 'Value':'Internet_Users_Pct'})"
   ]
  },
  {
   "cell_type": "markdown",
   "id": "61e7705b",
   "metadata": {},
   "source": [
    "<b> 13. Merge the two DataFrames to one. Merge all rows from each of the two DataFrames. Call the new DataFrame gdp_and_internet_use. <b>\n",
    "    "
   ]
  },
  {
   "cell_type": "code",
   "execution_count": 13,
   "id": "1df3e162",
   "metadata": {},
   "outputs": [
    {
     "name": "stdout",
     "output_type": "stream",
     "text": [
      "          Country  Year  GDP_Per_Capita  Internet_Users_Pct  Unnamed: 4  \\\n",
      "0     Afghanistan  2019     2065.036398                 NaN         NaN   \n",
      "1     Afghanistan  2018     2033.779002                 NaN         NaN   \n",
      "2     Afghanistan  2017     2058.383832                 NaN         NaN   \n",
      "3     Afghanistan  2016     2057.062164                 NaN         NaN   \n",
      "4     Afghanistan  2015     2068.265904                 NaN         NaN   \n",
      "...           ...   ...             ...                 ...         ...   \n",
      "7900        Yemen  1999             NaN            0.056629         NaN   \n",
      "7901        Yemen  1998             NaN            0.023323         NaN   \n",
      "7902        Yemen  1997             NaN            0.015025         NaN   \n",
      "7903        Yemen  1996             NaN            0.000621         NaN   \n",
      "7904        Yemen  1990             NaN            0.000000         NaN   \n",
      "\n",
      "      Unnamed: 5  \n",
      "0            NaN  \n",
      "1            NaN  \n",
      "2            NaN  \n",
      "3            NaN  \n",
      "4            NaN  \n",
      "...          ...  \n",
      "7900         NaN  \n",
      "7901         NaN  \n",
      "7902         NaN  \n",
      "7903         NaN  \n",
      "7904         NaN  \n",
      "\n",
      "[7905 rows x 6 columns]\n"
     ]
    }
   ],
   "source": [
    "gdp_and_internet_use = pd.merge(gdp_df1, internet_df1, on=['Country', 'Year'], how='outer')\n",
    "print(gdp_and_internet_use)"
   ]
  },
  {
   "cell_type": "markdown",
   "id": "42587d5d",
   "metadata": {},
   "source": [
    "<b> 14. Look at the first five rows of your new DataFrame to confirm it merged correctly.<b>\n",
    "\n",
    "<b>15. Look at the last five rows to make sure the data is clean and as expected.<b>"
   ]
  },
  {
   "cell_type": "markdown",
   "id": "5f8ac78b",
   "metadata": {},
   "source": [
    "<b> 16. Subset the combined DataFrame to keep only the data for 2004, 2009, and 2014. Check that this happened correctly. <b>"
   ]
  },
  {
   "cell_type": "code",
   "execution_count": 14,
   "id": "feb112ad",
   "metadata": {},
   "outputs": [
    {
     "name": "stdout",
     "output_type": "stream",
     "text": [
      "                    Country  Year  GDP_Per_Capita  Internet_Users_Pct  \\\n",
      "5               Afghanistan  2014     2102.385234            6.390000   \n",
      "10              Afghanistan  2009     1758.904043            3.550000   \n",
      "15              Afghanistan  2004     1200.278256            0.105809   \n",
      "23                  Albania  2014    11623.866680           60.100000   \n",
      "28                  Albania  2009    10346.864200           41.200000   \n",
      "...                     ...   ...             ...                 ...   \n",
      "7868  Virgin Islands (U.S.)  2009             NaN           27.396510   \n",
      "7873  Virgin Islands (U.S.)  2004             NaN           27.377009   \n",
      "7885                  Yemen  2014             NaN           22.550000   \n",
      "7890                  Yemen  2009             NaN            9.960000   \n",
      "7895                  Yemen  2004             NaN            0.881223   \n",
      "\n",
      "      Unnamed: 4  Unnamed: 5  \n",
      "5            NaN         NaN  \n",
      "10           NaN         NaN  \n",
      "15           NaN         NaN  \n",
      "23           NaN         NaN  \n",
      "28           NaN         NaN  \n",
      "...          ...         ...  \n",
      "7868         NaN         NaN  \n",
      "7873         NaN         NaN  \n",
      "7885         NaN         NaN  \n",
      "7890         NaN         NaN  \n",
      "7895         NaN         NaN  \n",
      "\n",
      "[830 rows x 6 columns]\n"
     ]
    }
   ],
   "source": [
    "gdp_and_internet_use = gdp_and_internet_use[gdp_and_internet_use[\"Year\"].isin([2004,2009,2014])]\n",
    "print(gdp_and_internet_use)"
   ]
  },
  {
   "cell_type": "markdown",
   "id": "c410cc15",
   "metadata": {},
   "source": [
    "<b> 17. Create three new DataFrames, one for 2004, one for 2009, and one for 2014. Give them meaningful names that aren't too long.<b>"
   ]
  },
  {
   "cell_type": "code",
   "execution_count": 15,
   "id": "58ca56dc",
   "metadata": {},
   "outputs": [
    {
     "name": "stdout",
     "output_type": "stream",
     "text": [
      "                    Country  Year  GDP_Per_Capita  Internet_Users_Pct  \\\n",
      "15              Afghanistan  2004     1200.278256            0.105809   \n",
      "33                  Albania  2004     7604.838002            2.420388   \n",
      "63                  Algeria  2004    10058.435940            4.634475   \n",
      "93                   Angola  2004     5593.241537            0.464815   \n",
      "123     Antigua and Barbuda  2004    18745.681530           24.266544   \n",
      "...                     ...   ...             ...                 ...   \n",
      "7771     T.F.Y.R. Macedonia  2004             NaN           24.440000   \n",
      "7829              Venezuela  2004             NaN            8.404470   \n",
      "7853               Viet Nam  2004             NaN            7.642409   \n",
      "7873  Virgin Islands (U.S.)  2004             NaN           27.377009   \n",
      "7895                  Yemen  2004             NaN            0.881223   \n",
      "\n",
      "      Unnamed: 4  Unnamed: 5  \n",
      "15           NaN         NaN  \n",
      "33           NaN         NaN  \n",
      "63           NaN         NaN  \n",
      "93           NaN         NaN  \n",
      "123          NaN         NaN  \n",
      "...          ...         ...  \n",
      "7771         NaN         NaN  \n",
      "7829         NaN         NaN  \n",
      "7853         NaN         NaN  \n",
      "7873         NaN         NaN  \n",
      "7895         NaN         NaN  \n",
      "\n",
      "[276 rows x 6 columns]\n"
     ]
    }
   ],
   "source": [
    "gdp_and_internet_use2004 = gdp_and_internet_use[gdp_and_internet_use[\"Year\"].isin([2004])] \n",
    "print(gdp_and_internet_use2004)"
   ]
  },
  {
   "cell_type": "code",
   "execution_count": 16,
   "id": "1a3a6a5b",
   "metadata": {},
   "outputs": [
    {
     "name": "stdout",
     "output_type": "stream",
     "text": [
      "                    Country  Year  GDP_Per_Capita  Internet_Users_Pct  \\\n",
      "10              Afghanistan  2009     1758.904043             3.55000   \n",
      "28                  Albania  2009    10346.864200            41.20000   \n",
      "58                  Algeria  2009    10782.361400            11.23000   \n",
      "88                   Angola  2009     7643.493749             6.00000   \n",
      "118     Antigua and Barbuda  2009    20046.839020            42.00000   \n",
      "...                     ...   ...             ...                 ...   \n",
      "7766     T.F.Y.R. Macedonia  2009             NaN            51.77000   \n",
      "7824              Venezuela  2009             NaN            32.70000   \n",
      "7848               Viet Nam  2009             NaN            26.55000   \n",
      "7868  Virgin Islands (U.S.)  2009             NaN            27.39651   \n",
      "7890                  Yemen  2009             NaN             9.96000   \n",
      "\n",
      "      Unnamed: 4  Unnamed: 5  \n",
      "10           NaN         NaN  \n",
      "28           NaN         NaN  \n",
      "58           NaN         NaN  \n",
      "88           NaN         NaN  \n",
      "118          NaN         NaN  \n",
      "...          ...         ...  \n",
      "7766         NaN         NaN  \n",
      "7824         NaN         NaN  \n",
      "7848         NaN         NaN  \n",
      "7868         NaN         NaN  \n",
      "7890         NaN         NaN  \n",
      "\n",
      "[277 rows x 6 columns]\n"
     ]
    }
   ],
   "source": [
    "gdp_and_internet_use2009 = gdp_and_internet_use[gdp_and_internet_use[\"Year\"].isin([2009])] \n",
    "print(gdp_and_internet_use2009)"
   ]
  },
  {
   "cell_type": "code",
   "execution_count": 17,
   "id": "e4ccb8de",
   "metadata": {},
   "outputs": [
    {
     "name": "stdout",
     "output_type": "stream",
     "text": [
      "                    Country  Year  GDP_Per_Capita  Internet_Users_Pct  \\\n",
      "5               Afghanistan  2014     2102.385234                6.39   \n",
      "23                  Albania  2014    11623.866680               60.10   \n",
      "53                  Algeria  2014    11512.705410               18.09   \n",
      "83                   Angola  2014     8239.828837               21.26   \n",
      "113     Antigua and Barbuda  2014    18104.241470               64.00   \n",
      "...                     ...   ...             ...                 ...   \n",
      "7761     T.F.Y.R. Macedonia  2014             NaN               68.06   \n",
      "7819              Venezuela  2014             NaN               57.00   \n",
      "7843               Viet Nam  2014             NaN               48.31   \n",
      "7863  Virgin Islands (U.S.)  2014             NaN               50.07   \n",
      "7885                  Yemen  2014             NaN               22.55   \n",
      "\n",
      "      Unnamed: 4  Unnamed: 5  \n",
      "5            NaN         NaN  \n",
      "23           NaN         NaN  \n",
      "53           NaN         NaN  \n",
      "83           NaN         NaN  \n",
      "113          NaN         NaN  \n",
      "...          ...         ...  \n",
      "7761         NaN         NaN  \n",
      "7819         NaN         NaN  \n",
      "7843         NaN         NaN  \n",
      "7863         NaN         NaN  \n",
      "7885         NaN         NaN  \n",
      "\n",
      "[277 rows x 6 columns]\n"
     ]
    }
   ],
   "source": [
    "gdp_and_internet_use2014 = gdp_and_internet_use[gdp_and_internet_use[\"Year\"].isin([2014])] \n",
    "print(gdp_and_internet_use2014)"
   ]
  },
  {
   "cell_type": "markdown",
   "id": "32da7a22",
   "metadata": {},
   "source": [
    "<b> 18. Which country had the highest percentage of internet users in 2014? What was the percentage? (Try typing the first 3 letters of your DataFrame name and hitting the tab key for auto-complete options). --need to come back to this one, shoud be Iceland<b>"
   ]
  },
  {
   "cell_type": "code",
   "execution_count": 29,
   "id": "23dc7d99",
   "metadata": {},
   "outputs": [
    {
     "name": "stdout",
     "output_type": "stream",
     "text": [
      "Country                  Zimbabwe\n",
      "Year                         2014\n",
      "GDP_Per_Capita        156514.1338\n",
      "Internet_Users_Pct          98.16\n",
      "Unnamed: 4                    NaN\n",
      "Unnamed: 5                    NaN\n",
      "dtype: object\n"
     ]
    }
   ],
   "source": [
    "gdp_and_internet_use2014 = gdp_and_internet_use2014.sort_values('Internet_Users_Pct').groupby('Country').tail(1)\n",
    "print(gdp_and_internet_use2014.max())"
   ]
  }
 ],
 "metadata": {
  "kernelspec": {
   "display_name": "Python 3 (ipykernel)",
   "language": "python",
   "name": "python3"
  },
  "language_info": {
   "codemirror_mode": {
    "name": "ipython",
    "version": 3
   },
   "file_extension": ".py",
   "mimetype": "text/x-python",
   "name": "python",
   "nbconvert_exporter": "python",
   "pygments_lexer": "ipython3",
   "version": "3.9.12"
  }
 },
 "nbformat": 4,
 "nbformat_minor": 5
}
